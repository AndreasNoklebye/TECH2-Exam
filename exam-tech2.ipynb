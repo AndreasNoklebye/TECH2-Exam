{
 "cells": [
  {
   "cell_type": "markdown",
   "metadata": {},
   "source": [
    "## Importing data"
   ]
  },
  {
   "cell_type": "markdown",
   "metadata": {},
   "source": [
    "### Importing packages"
   ]
  },
  {
   "cell_type": "code",
   "execution_count": 1,
   "metadata": {},
   "outputs": [],
   "source": [
    "import glob\n",
    "import pandas as pd\n",
    "import matplotlib.pyplot as plt"
   ]
  },
  {
   "cell_type": "markdown",
   "metadata": {},
   "source": [
    "### Importing dataset 1: DayAheadPrices"
   ]
  },
  {
   "cell_type": "code",
   "execution_count": 2,
   "metadata": {},
   "outputs": [
    {
     "data": {
      "text/html": [
       "<div>\n",
       "<style scoped>\n",
       "    .dataframe tbody tr th:only-of-type {\n",
       "        vertical-align: middle;\n",
       "    }\n",
       "\n",
       "    .dataframe tbody tr th {\n",
       "        vertical-align: top;\n",
       "    }\n",
       "\n",
       "    .dataframe thead th {\n",
       "        text-align: right;\n",
       "    }\n",
       "</style>\n",
       "<table border=\"1\" class=\"dataframe\">\n",
       "  <thead>\n",
       "    <tr style=\"text-align: right;\">\n",
       "      <th></th>\n",
       "      <th>ResolutionCode</th>\n",
       "      <th>MapCode</th>\n",
       "      <th>Price</th>\n",
       "    </tr>\n",
       "    <tr>\n",
       "      <th>DateTime</th>\n",
       "      <th></th>\n",
       "      <th></th>\n",
       "      <th></th>\n",
       "    </tr>\n",
       "  </thead>\n",
       "  <tbody>\n",
       "    <tr>\n",
       "      <th>2019-01-01 00:00:00</th>\n",
       "      <td>PT60M</td>\n",
       "      <td>NO2</td>\n",
       "      <td>49.25</td>\n",
       "    </tr>\n",
       "    <tr>\n",
       "      <th>2019-01-01 00:00:00</th>\n",
       "      <td>PT60M</td>\n",
       "      <td>DE_LU</td>\n",
       "      <td>10.07</td>\n",
       "    </tr>\n",
       "    <tr>\n",
       "      <th>2019-01-01 01:00:00</th>\n",
       "      <td>PT60M</td>\n",
       "      <td>DE_LU</td>\n",
       "      <td>-4.08</td>\n",
       "    </tr>\n",
       "    <tr>\n",
       "      <th>2019-01-01 01:00:00</th>\n",
       "      <td>PT60M</td>\n",
       "      <td>NO2</td>\n",
       "      <td>49.17</td>\n",
       "    </tr>\n",
       "    <tr>\n",
       "      <th>2019-01-01 02:00:00</th>\n",
       "      <td>PT60M</td>\n",
       "      <td>DE_LU</td>\n",
       "      <td>-9.91</td>\n",
       "    </tr>\n",
       "    <tr>\n",
       "      <th>...</th>\n",
       "      <td>...</td>\n",
       "      <td>...</td>\n",
       "      <td>...</td>\n",
       "    </tr>\n",
       "    <tr>\n",
       "      <th>2023-12-31 21:00:00</th>\n",
       "      <td>PT60M</td>\n",
       "      <td>NO2</td>\n",
       "      <td>61.77</td>\n",
       "    </tr>\n",
       "    <tr>\n",
       "      <th>2023-12-31 22:00:00</th>\n",
       "      <td>PT60M</td>\n",
       "      <td>DE_LU</td>\n",
       "      <td>2.44</td>\n",
       "    </tr>\n",
       "    <tr>\n",
       "      <th>2023-12-31 22:00:00</th>\n",
       "      <td>PT60M</td>\n",
       "      <td>NO2</td>\n",
       "      <td>59.31</td>\n",
       "    </tr>\n",
       "    <tr>\n",
       "      <th>2023-12-31 23:00:00</th>\n",
       "      <td>PT60M</td>\n",
       "      <td>DE_LU</td>\n",
       "      <td>0.10</td>\n",
       "    </tr>\n",
       "    <tr>\n",
       "      <th>2023-12-31 23:00:00</th>\n",
       "      <td>PT60M</td>\n",
       "      <td>NO2</td>\n",
       "      <td>53.79</td>\n",
       "    </tr>\n",
       "  </tbody>\n",
       "</table>\n",
       "<p>87648 rows × 3 columns</p>\n",
       "</div>"
      ],
      "text/plain": [
       "                    ResolutionCode MapCode  Price\n",
       "DateTime                                         \n",
       "2019-01-01 00:00:00          PT60M     NO2  49.25\n",
       "2019-01-01 00:00:00          PT60M   DE_LU  10.07\n",
       "2019-01-01 01:00:00          PT60M   DE_LU  -4.08\n",
       "2019-01-01 01:00:00          PT60M     NO2  49.17\n",
       "2019-01-01 02:00:00          PT60M   DE_LU  -9.91\n",
       "...                            ...     ...    ...\n",
       "2023-12-31 21:00:00          PT60M     NO2  61.77\n",
       "2023-12-31 22:00:00          PT60M   DE_LU   2.44\n",
       "2023-12-31 22:00:00          PT60M     NO2  59.31\n",
       "2023-12-31 23:00:00          PT60M   DE_LU   0.10\n",
       "2023-12-31 23:00:00          PT60M     NO2  53.79\n",
       "\n",
       "[87648 rows x 3 columns]"
      ]
     },
     "execution_count": 2,
     "metadata": {},
     "output_type": "execute_result"
    }
   ],
   "source": [
    "data = []\n",
    "\n",
    "DATA_PATH = '../TECH2-Exam/data/DayAheadPrices_12.1.D'\n",
    "\n",
    "files = glob.glob(f'{DATA_PATH}/*')\n",
    "\n",
    "for file in files:\n",
    "    fn = pd.read_csv(file, sep ='\\t', parse_dates=['DateTime'], index_col='DateTime')\n",
    "    data.append(fn)\n",
    "\n",
    "df = pd.concat(data).sort_index()\n",
    "df = df[['ResolutionCode','MapCode','Price']]\n",
    "df = df.query('MapCode == \"NO2\" or MapCode == \"DE_LU\" and ResolutionCode == \"PT60M\"')\n",
    "df"
   ]
  },
  {
   "cell_type": "markdown",
   "metadata": {},
   "source": [
    "### Importing dataset 2: PhysicalFlows"
   ]
  },
  {
   "cell_type": "code",
   "execution_count": 3,
   "metadata": {},
   "outputs": [
    {
     "data": {
      "text/html": [
       "<div>\n",
       "<style scoped>\n",
       "    .dataframe tbody tr th:only-of-type {\n",
       "        vertical-align: middle;\n",
       "    }\n",
       "\n",
       "    .dataframe tbody tr th {\n",
       "        vertical-align: top;\n",
       "    }\n",
       "\n",
       "    .dataframe thead th {\n",
       "        text-align: right;\n",
       "    }\n",
       "</style>\n",
       "<table border=\"1\" class=\"dataframe\">\n",
       "  <thead>\n",
       "    <tr style=\"text-align: right;\">\n",
       "      <th></th>\n",
       "      <th>InMapCode</th>\n",
       "      <th>OutMapCode</th>\n",
       "      <th>FlowValue</th>\n",
       "    </tr>\n",
       "    <tr>\n",
       "      <th>DateTime</th>\n",
       "      <th></th>\n",
       "      <th></th>\n",
       "      <th></th>\n",
       "    </tr>\n",
       "  </thead>\n",
       "  <tbody>\n",
       "    <tr>\n",
       "      <th>2020-09-01 22:00:00</th>\n",
       "      <td>DE_LU</td>\n",
       "      <td>NO2</td>\n",
       "      <td>0.0000</td>\n",
       "    </tr>\n",
       "    <tr>\n",
       "      <th>2020-09-01 22:00:00</th>\n",
       "      <td>NO2</td>\n",
       "      <td>DE_LU</td>\n",
       "      <td>0.0000</td>\n",
       "    </tr>\n",
       "    <tr>\n",
       "      <th>2020-09-01 23:00:00</th>\n",
       "      <td>DE_LU</td>\n",
       "      <td>NO2</td>\n",
       "      <td>0.0000</td>\n",
       "    </tr>\n",
       "    <tr>\n",
       "      <th>2020-09-01 23:00:00</th>\n",
       "      <td>NO2</td>\n",
       "      <td>DE_LU</td>\n",
       "      <td>0.0000</td>\n",
       "    </tr>\n",
       "    <tr>\n",
       "      <th>2020-09-02 00:00:00</th>\n",
       "      <td>DE_LU</td>\n",
       "      <td>NO2</td>\n",
       "      <td>0.0000</td>\n",
       "    </tr>\n",
       "    <tr>\n",
       "      <th>...</th>\n",
       "      <td>...</td>\n",
       "      <td>...</td>\n",
       "      <td>...</td>\n",
       "    </tr>\n",
       "    <tr>\n",
       "      <th>2023-12-31 21:00:00</th>\n",
       "      <td>DE_LU</td>\n",
       "      <td>NO2</td>\n",
       "      <td>0.0000</td>\n",
       "    </tr>\n",
       "    <tr>\n",
       "      <th>2023-12-31 22:00:00</th>\n",
       "      <td>NO2</td>\n",
       "      <td>DE_LU</td>\n",
       "      <td>1350.5975</td>\n",
       "    </tr>\n",
       "    <tr>\n",
       "      <th>2023-12-31 22:00:00</th>\n",
       "      <td>DE_LU</td>\n",
       "      <td>NO2</td>\n",
       "      <td>0.0000</td>\n",
       "    </tr>\n",
       "    <tr>\n",
       "      <th>2023-12-31 23:00:00</th>\n",
       "      <td>NO2</td>\n",
       "      <td>DE_LU</td>\n",
       "      <td>1399.0425</td>\n",
       "    </tr>\n",
       "    <tr>\n",
       "      <th>2023-12-31 23:00:00</th>\n",
       "      <td>DE_LU</td>\n",
       "      <td>NO2</td>\n",
       "      <td>0.0000</td>\n",
       "    </tr>\n",
       "  </tbody>\n",
       "</table>\n",
       "<p>58372 rows × 3 columns</p>\n",
       "</div>"
      ],
      "text/plain": [
       "                    InMapCode OutMapCode  FlowValue\n",
       "DateTime                                           \n",
       "2020-09-01 22:00:00     DE_LU        NO2     0.0000\n",
       "2020-09-01 22:00:00       NO2      DE_LU     0.0000\n",
       "2020-09-01 23:00:00     DE_LU        NO2     0.0000\n",
       "2020-09-01 23:00:00       NO2      DE_LU     0.0000\n",
       "2020-09-02 00:00:00     DE_LU        NO2     0.0000\n",
       "...                       ...        ...        ...\n",
       "2023-12-31 21:00:00     DE_LU        NO2     0.0000\n",
       "2023-12-31 22:00:00       NO2      DE_LU  1350.5975\n",
       "2023-12-31 22:00:00     DE_LU        NO2     0.0000\n",
       "2023-12-31 23:00:00       NO2      DE_LU  1399.0425\n",
       "2023-12-31 23:00:00     DE_LU        NO2     0.0000\n",
       "\n",
       "[58372 rows x 3 columns]"
      ]
     },
     "execution_count": 3,
     "metadata": {},
     "output_type": "execute_result"
    }
   ],
   "source": [
    "data = []\n",
    "\n",
    "DATA_PATH = '../TECH2-Exam/data/PhysicalFlows_12.1.G'\n",
    "\n",
    "files = glob.glob(f'{DATA_PATH}/*')\n",
    "\n",
    "for file in files:\n",
    "    fn = pd.read_csv(file, sep ='\\t', parse_dates=['DateTime'], index_col='DateTime')\n",
    "    data.append(fn)\n",
    "\n",
    "df2 = pd.concat(data).sort_index()\n",
    "df2 = df2.query('(InMapCode == \"NO2\" and OutMapCode == \"DE_LU\") or (InMapCode == \"DE_LU\" and OutMapCode == \"NO2\")')\n",
    "df2"
   ]
  },
  {
   "cell_type": "markdown",
   "metadata": {},
   "source": [
    "## Tasks"
   ]
  },
  {
   "cell_type": "markdown",
   "metadata": {},
   "source": [
    "### Task 1"
   ]
  },
  {
   "cell_type": "code",
   "execution_count": 38,
   "metadata": {},
   "outputs": [
    {
     "data": {
      "image/png": "[encoded data removed]",
      "text/plain": [
       "<Figure size 1000x300 with 2 Axes>"
      ]
     },
     "metadata": {},
     "output_type": "display_data"
    }
   ],
   "source": [
    "fig, axes = plt.subplots(1,2, sharex=True, sharey=True, figsize=(10,3))                     # Creates subplots with one row and two columns\n",
    "\n",
    "Country = ['Norway', 'Germany']                                                             # List of the two countries\n",
    "\n",
    "xvalues = df.index.drop_duplicates()                                                        # Gets the x-values for the plots, removes duplicates\n",
    "yvalues0 = df[df['MapCode'] == 'NO2']['Price']                                              # Gets the y-values for Norway\n",
    "yvalues1 = df[df['MapCode'] == 'DE_LU']['Price']                                            # Gets the y-values for Germany\n",
    "\n",
    "yvalues = [yvalues0, yvalues1]                                                              # Puts the yvalues in a list together\n",
    "\n",
    "for i in range(2):                                                                          # For loop creating the two subplots\n",
    "    axes[i].plot(xvalues, yvalues[i], lw=0.5, label='Price EUR/MWh')                        # Plots the electricity graph\n",
    "    axes[i].axvline(pd.to_datetime('2020-12-09'), ls='--', c='salmon', label='Nordlink')    # Plots the vertical line for opening of Nordlink\n",
    "    axes[i].set_title(f'Electricity price {Country[i]}')                                    \n",
    "    axes[i].legend()            \n",
    "\n",
    "plt.tight_layout()                                                                          # \"Adjust the padding between and around subplots\" (matplotlib.org, 2024)\n",
    "\n",
    "#fig.savefig('figure_task1.png')                                                             # Saves the figure as a png file (matplotlib.org, 2024)"
   ]
  },
  {
   "cell_type": "markdown",
   "metadata": {},
   "source": [
    "### Task 2"
   ]
  },
  {
   "cell_type": "code",
   "execution_count": 9,
   "metadata": {},
   "outputs": [
    {
     "data": {
      "text/html": [
       "<div>\n",
       "<style scoped>\n",
       "    .dataframe tbody tr th:only-of-type {\n",
       "        vertical-align: middle;\n",
       "    }\n",
       "\n",
       "    .dataframe tbody tr th {\n",
       "        vertical-align: top;\n",
       "    }\n",
       "\n",
       "    .dataframe thead th {\n",
       "        text-align: right;\n",
       "    }\n",
       "</style>\n",
       "<table border=\"1\" class=\"dataframe\">\n",
       "  <thead>\n",
       "    <tr style=\"text-align: right;\">\n",
       "      <th></th>\n",
       "      <th></th>\n",
       "      <th>Mean</th>\n",
       "      <th>Median</th>\n",
       "      <th>Standard_deviation</th>\n",
       "      <th>Min</th>\n",
       "      <th>Max</th>\n",
       "    </tr>\n",
       "    <tr>\n",
       "      <th>MapCode</th>\n",
       "      <th>Year</th>\n",
       "      <th></th>\n",
       "      <th></th>\n",
       "      <th></th>\n",
       "      <th></th>\n",
       "      <th></th>\n",
       "    </tr>\n",
       "  </thead>\n",
       "  <tbody>\n",
       "    <tr>\n",
       "      <th rowspan=\"5\" valign=\"top\">DE_LU</th>\n",
       "      <th>2019</th>\n",
       "      <td>37.67</td>\n",
       "      <td>38.06</td>\n",
       "      <td>15.52</td>\n",
       "      <td>-90.01</td>\n",
       "      <td>121.46</td>\n",
       "    </tr>\n",
       "    <tr>\n",
       "      <th>2020</th>\n",
       "      <td>30.47</td>\n",
       "      <td>30.99</td>\n",
       "      <td>17.50</td>\n",
       "      <td>-83.94</td>\n",
       "      <td>200.04</td>\n",
       "    </tr>\n",
       "    <tr>\n",
       "      <th>2021</th>\n",
       "      <td>96.85</td>\n",
       "      <td>75.48</td>\n",
       "      <td>73.68</td>\n",
       "      <td>-69.00</td>\n",
       "      <td>620.00</td>\n",
       "    </tr>\n",
       "    <tr>\n",
       "      <th>2022</th>\n",
       "      <td>235.44</td>\n",
       "      <td>208.34</td>\n",
       "      <td>142.82</td>\n",
       "      <td>-19.04</td>\n",
       "      <td>871.00</td>\n",
       "    </tr>\n",
       "    <tr>\n",
       "      <th>2023</th>\n",
       "      <td>95.18</td>\n",
       "      <td>98.02</td>\n",
       "      <td>47.58</td>\n",
       "      <td>-500.00</td>\n",
       "      <td>524.27</td>\n",
       "    </tr>\n",
       "    <tr>\n",
       "      <th rowspan=\"5\" valign=\"top\">NO2</th>\n",
       "      <th>2019</th>\n",
       "      <td>39.26</td>\n",
       "      <td>38.81</td>\n",
       "      <td>8.23</td>\n",
       "      <td>5.86</td>\n",
       "      <td>109.45</td>\n",
       "    </tr>\n",
       "    <tr>\n",
       "      <th>2020</th>\n",
       "      <td>9.29</td>\n",
       "      <td>6.95</td>\n",
       "      <td>8.26</td>\n",
       "      <td>-1.73</td>\n",
       "      <td>99.92</td>\n",
       "    </tr>\n",
       "    <tr>\n",
       "      <th>2021</th>\n",
       "      <td>75.11</td>\n",
       "      <td>59.34</td>\n",
       "      <td>47.22</td>\n",
       "      <td>-1.97</td>\n",
       "      <td>600.16</td>\n",
       "    </tr>\n",
       "    <tr>\n",
       "      <th>2022</th>\n",
       "      <td>211.28</td>\n",
       "      <td>181.13</td>\n",
       "      <td>125.85</td>\n",
       "      <td>0.04</td>\n",
       "      <td>844.00</td>\n",
       "    </tr>\n",
       "    <tr>\n",
       "      <th>2023</th>\n",
       "      <td>79.44</td>\n",
       "      <td>80.46</td>\n",
       "      <td>36.28</td>\n",
       "      <td>-61.84</td>\n",
       "      <td>261.85</td>\n",
       "    </tr>\n",
       "  </tbody>\n",
       "</table>\n",
       "</div>"
      ],
      "text/plain": [
       "                Mean  Median  Standard_deviation     Min     Max\n",
       "MapCode Year                                                    \n",
       "DE_LU   2019   37.67   38.06               15.52  -90.01  121.46\n",
       "        2020   30.47   30.99               17.50  -83.94  200.04\n",
       "        2021   96.85   75.48               73.68  -69.00  620.00\n",
       "        2022  235.44  208.34              142.82  -19.04  871.00\n",
       "        2023   95.18   98.02               47.58 -500.00  524.27\n",
       "NO2     2019   39.26   38.81                8.23    5.86  109.45\n",
       "        2020    9.29    6.95                8.26   -1.73   99.92\n",
       "        2021   75.11   59.34               47.22   -1.97  600.16\n",
       "        2022  211.28  181.13              125.85    0.04  844.00\n",
       "        2023   79.44   80.46               36.28  -61.84  261.85"
      ]
     },
     "execution_count": 9,
     "metadata": {},
     "output_type": "execute_result"
    }
   ],
   "source": [
    "df = df.loc['2019':'2023'].copy()               # Restricting the data for the period 2019-2023\n",
    "df['Year'] = df.index.year                      # Creating a new index 'Year' containing only years in the restricted period\n",
    "\n",
    "groups = df.groupby(['MapCode','Year'])         # Create a group, with the new index 'Year' and 'MapCode' (Norway or Germany)\n",
    "\n",
    "table = groups.agg(                             # Creates a new table that calculate the required statistics\n",
    "    Mean = ('Price', 'mean'),\n",
    "    Median = ('Price', 'median'),\n",
    "    Standard_deviation = ('Price', 'std'),\n",
    "    Min = ('Price', 'min'),\n",
    "    Max = ('Price', 'max'),\n",
    ").round(2)\n",
    "table                                           # Prints the table\n",
    "\n",
    "#table.to_excel('table_task2.xlsx')             # Makes a excel sheet with the new data table"
   ]
  },
  {
   "cell_type": "markdown",
   "metadata": {},
   "source": [
    "### Task 3"
   ]
  },
  {
   "cell_type": "code",
   "execution_count": 39,
   "metadata": {},
   "outputs": [
    {
     "data": {
      "image/png": "[encoded data removed]",
      "text/plain": [
       "<Figure size 800x400 with 1 Axes>"
      ]
     },
     "metadata": {},
     "output_type": "display_data"
    }
   ],
   "source": [
    "df2['Year'] = df2.index.year                                                                        # Creates a new colum 'year' based on the 'DateTime' index\n",
    "df2['Indicator'] = df2.apply(lambda x: 'Import' if x['InMapCode'] == 'NO2' else 'Export', axis = 1) # New colum 'Indicator' to tell if its import or export\n",
    "\n",
    "annual_sum = df2.groupby(['Year','Indicator'])['FlowValue'].sum()                                   # Creates a new group with the new colums and the sum of 'FlowValue'\n",
    "\n",
    "fig, ax = plt.subplots(figsize=(8,4))                                                               # Creates the plot\n",
    "\n",
    "annual_sum.plot(kind='bar', color=['skyblue', 'salmon'])                                            # Plots the new annual_sum group.\n",
    "ax.set_title('Annual electricity imports and exports ')                                             # Adding title\n",
    "ax.tick_params(axis='x', rotation=45)                                                               # Rotates the x-ticks 45 degrees\n",
    "ax.set_ylabel('Flow of electricity')                                                                \n",
    "ax.set_xlabel('Year')\n",
    "\n",
    "\n",
    "plt.tight_layout()                                                                                  # Adjusting the layout\n",
    "#fig.savefig('figure_task3.png')                                                                    # Saves the figure as png file"
   ]
  },
  {
   "cell_type": "markdown",
   "metadata": {},
   "source": [
    "### Task 4"
   ]
  },
  {
   "cell_type": "markdown",
   "metadata": {},
   "source": [
    "### Task 5"
   ]
  },
  {
   "cell_type": "markdown",
   "metadata": {},
   "source": [
    "### Task 6"
   ]
  },
  {
   "cell_type": "code",
   "execution_count": null,
   "metadata": {},
   "outputs": [],
   "source": []
  },
  {
   "cell_type": "markdown",
   "metadata": {},
   "source": [
    "https://matplotlib.org/stable/api/_as_gen/matplotlib.pyplot.tight_layout.html Task 1 and 3. \n",
    "https://matplotlib.org/stable/api/_as_gen/matplotlib.pyplot.savefig.html Task 1, 3\n"
   ]
  },
  {
   "cell_type": "code",
   "execution_count": null,
   "metadata": {},
   "outputs": [],
   "source": []
  }
 ],
 "metadata": {
  "kernelspec": {
   "display_name": "exam",
   "language": "python",
   "name": "python3"
  },
  "language_info": {
   "codemirror_mode": {
    "name": "ipython",
    "version": 3
   },
   "file_extension": ".py",
   "mimetype": "text/x-python",
   "name": "python",
   "nbconvert_exporter": "python",
   "pygments_lexer": "ipython3",
   "version": "3.12.7"
  }
 },
 "nbformat": 4,
 "nbformat_minor": 2
}
